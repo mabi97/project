{
 "cells": [
  {
   "attachments": {},
   "cell_type": "markdown",
   "metadata": {},
   "source": [
    "SCRAPING ITEM'S DATA FROM SHOPEE WEBSITE"
   ]
  },
  {
   "cell_type": "code",
   "execution_count": 1,
   "metadata": {},
   "outputs": [],
   "source": [
    "import requests\n",
    "import json\n",
    "import sqlite3 "
   ]
  },
  {
   "cell_type": "code",
   "execution_count": 2,
   "metadata": {},
   "outputs": [],
   "source": [
    "def get_shop(category_id): \n",
    "\n",
    "    url = \"https://shopee.vn/api/v4/official_shop/get_shops?category_id=\" + f'{category_id}'\n",
    "    headers = {\n",
    "    'user-agent': 'Mozilla/5.0 (Windows NT 10.0; Win64; x64) AppleWebKit/537.36 (KHTML, like Gecko) Chrome/115.0.0.0 Safari/537.36 Edg/115.0.0.0'\n",
    "    }\n",
    "    response = requests.get(url, headers= headers)\n",
    "\n",
    "    data = response.json()\n",
    "    \n",
    "    for i in data['data']['official_shops']:\n",
    "        shop_id = i['shopid']\n",
    "        row = i['shopid'], i['shop_name']\n",
    "        cursor.execute('INSERT OR REPLACE INTO shop VALUES(?,?)',row)"
   ]
  },
  {
   "cell_type": "code",
   "execution_count": 3,
   "metadata": {},
   "outputs": [],
   "source": [
    "def get_item(number,shop_id): \n",
    "\n",
    "    url = 'https://shopee.vn/api/v4/shop/rcmd_items?bundle=shop_page_category_tab_main&limit=100&offset=' + f'{number}' + '&shop_id=' + f'{shop_id}' + '&sort_type=1&upstream='\n",
    "\n",
    "    response = requests.get(url)\n",
    "\n",
    "    data = response.json()\n",
    "    data = data['data']['items']\n",
    "\n",
    "    \n",
    "    for i in data:\n",
    "        item_id = i['itemid']\n",
    "        row = i['itemid'], i['shopid'], i['name'], i['stock'], i['historical_sold'], i['liked_count'], i['cmt_count'], i['item_status'],\\\n",
    "            i['price']/100, i['price_min']/100, i['price_max']/100, i['raw_discount'], i['item_rating']['rating_count'][1], i['item_rating']['rating_count'][2], i['item_rating']['rating_count'][3],\\\n",
    "            i['item_rating']['rating_count'][4], i['item_rating']['rating_count'][5],\n",
    "        cursor.execute('INSERT OR REPLACE INTO item VALUES(?,?,?,?,?,?,?,?,?,?,?,?,?,?,?,?,?)',row)\n"
   ]
  },
  {
   "cell_type": "code",
   "execution_count": 8,
   "metadata": {},
   "outputs": [],
   "source": [
    "conn = sqlite3.connect('shopee.db')\n",
    "cursor = conn.cursor()\n",
    "\n",
    "get_shop(11035567) #Thời trang nam\n",
    "conn.commit()\n",
    "\n",
    "cursor.execute('SELECT id FROM shop')\n",
    "shop_id_list = [row[0] for row in cursor.fetchall()]\n",
    "\n",
    "for x in shop_id_list:\n",
    "    total_item = requests.get('https://shopee.vn/api/v4/shop/rcmd_items?bundle=shop_page_category_tab_main&limit=1&offset=0&shop_id=' + f'{x}' + '&sort_type=1&upstream=').json()['data']['total']\n",
    "    for i in range(0,total_item,100):\n",
    "        get_item(i,x)\n",
    "\n",
    "conn.commit()\n",
    "conn.close()"
   ]
  }
 ],
 "metadata": {
  "kernelspec": {
   "display_name": "base",
   "language": "python",
   "name": "python3"
  },
  "language_info": {
   "codemirror_mode": {
    "name": "ipython",
    "version": 3
   },
   "file_extension": ".py",
   "mimetype": "text/x-python",
   "name": "python",
   "nbconvert_exporter": "python",
   "pygments_lexer": "ipython3",
   "version": "3.9.13"
  },
  "orig_nbformat": 4
 },
 "nbformat": 4,
 "nbformat_minor": 2
}
